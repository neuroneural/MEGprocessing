{
 "cells": [
  {
   "cell_type": "code",
   "execution_count": 1,
   "id": "c87fab59",
   "metadata": {},
   "outputs": [
    {
     "name": "stdout",
     "output_type": "stream",
     "text": [
      "mynew2023\n"
     ]
    }
   ],
   "source": [
    "import os\n",
    "print (os.environ['CONDA_DEFAULT_ENV'])"
   ]
  },
  {
   "cell_type": "markdown",
   "id": "d81efedc",
   "metadata": {},
   "source": [
    "## Import Required Packages"
   ]
  },
  {
   "cell_type": "code",
   "execution_count": 14,
   "id": "570f6b85",
   "metadata": {},
   "outputs": [],
   "source": [
    "import os\n",
    "import matplotlib.pylab as plt\n",
    "import numpy as np\n",
    "import torch\n",
    "import torchvision"
   ]
  },
  {
   "cell_type": "markdown",
   "id": "b8b43983",
   "metadata": {},
   "source": [
    "### Load MEG Data"
   ]
  },
  {
   "cell_type": "code",
   "execution_count": 15,
   "id": "acec1fde",
   "metadata": {},
   "outputs": [],
   "source": [
    "import os, glob\n",
    "from distutils.dir_util import copy_tree, remove_tree\n",
    "from tqdm.notebook import tqdm\n",
    "import numpy as np\n",
    "import matplotlib.pyplot as plt\n",
    "import mne"
   ]
  },
  {
   "cell_type": "code",
   "execution_count": 26,
   "id": "68beaeb2",
   "metadata": {},
   "outputs": [],
   "source": [
    "from pathlib import Path\n",
    "\n",
    "datapath = os.path.join(Path(os.getcwd()).parent.parent.parent, 'nshor', 'Multiband_with_MEG/')\n",
    "# print(datapath)\n"
   ]
  },
  {
   "cell_type": "markdown",
   "id": "cf1b8ba5",
   "metadata": {},
   "source": [
    "### List of subjects"
   ]
  },
  {
   "cell_type": "code",
   "execution_count": 30,
   "id": "43fd94ea",
   "metadata": {},
   "outputs": [
    {
     "name": "stdout",
     "output_type": "stream",
     "text": [
      "['sub-01', 'sub-02', 'sub-03', 'sub-04', 'sub-05', 'sub-06', 'sub-07', 'sub-08', 'sub-09', 'sub-10', 'sub-11', 'sub-12']\n"
     ]
    }
   ],
   "source": [
    "tmp_path = os.path.join(os.getcwd(), 'my_derivatives/')\n",
    "list_sub =[os.path.basename(s) for s in glob.glob(datapath +'sub*')]\n",
    "print(list_sub)"
   ]
  },
  {
   "attachments": {},
   "cell_type": "markdown",
   "id": "c7327cc2",
   "metadata": {},
   "source": [
    "### Locating individual meg files"
   ]
  },
  {
   "cell_type": "code",
   "execution_count": 37,
   "id": "bb6b5100",
   "metadata": {},
   "outputs": [],
   "source": [
    "# for sub in tqdm(sorted(list_sub)):\n",
    "#     #print(sub)\n",
    "\n",
    "sub = 'sub-02'\n",
    "# create and copy data to temproray directory\n",
    "tmp_dir = os.path.join(tmp_path,sub)\n",
    "\n",
    "#Inverse problem output directory\n",
    "inverse_dir_output = os.path.join( tmp_path,sub,'meg','Inverse/')\n",
    "path_in_source = os.path.join(datapath,sub,'meg', sub+'_task-RDR_run-1_meg.fif')\n",
    "if os.path.exists(path_in_source):\n",
    "\n",
    "    if not os.path.exists(inverse_dir_output):\n",
    "        #making Inverse folder in tmp\n",
    "        os.makedirs(inverse_dir_output)"
   ]
  },
  {
   "cell_type": "code",
   "execution_count": 39,
   "id": "02d598f9",
   "metadata": {},
   "outputs": [
    {
     "name": "stdout",
     "output_type": "stream",
     "text": [
      "Opening raw data file /home/users/mrahman21/mne_data/MNE-sample-data/MEG/sample/sample_audvis_raw.fif...\n",
      "    Read a total of 3 projection items:\n",
      "        PCA-v1 (1 x 102)  idle\n",
      "        PCA-v2 (1 x 102)  idle\n",
      "        PCA-v3 (1 x 102)  idle\n",
      "    Range : 25800 ... 192599 =     42.956 ...   320.670 secs\n",
      "Ready.\n"
     ]
    }
   ],
   "source": [
    "sample_data_folder = mne.datasets.sample.data_path()\n",
    "sample_data_raw_file = os.path.join(sample_data_folder, 'MEG', 'sample',\n",
    "                                    'sample_audvis_raw.fif')\n",
    "# print(sample_data_raw_file)\n",
    "raw = mne.io.read_raw_fif(sample_data_raw_file)"
   ]
  },
  {
   "cell_type": "code",
   "execution_count": 40,
   "id": "0e9ba887",
   "metadata": {},
   "outputs": [
    {
     "name": "stdout",
     "output_type": "stream",
     "text": [
      "the (cropped) sample data object has 166800 time samples and 376 channels.\n",
      "The last time sample is at 277.7136813300495 seconds.\n",
      "The first few channel names are MEG 0113, MEG 0112, MEG 0111.\n",
      "\n",
      "bad channels: ['MEG 2443', 'EEG 053']\n",
      "600.614990234375 Hz\n",
      "acquisition (megacq) VectorView system at NMR-MGH \n",
      "\n",
      "<Info | 21 non-empty values\n",
      " acq_pars: ACQch001 110113 ACQch002 110112 ACQch003 110111 ACQch004 110122 ...\n",
      " bads: 2 items (MEG 2443, EEG 053)\n",
      " ch_names: MEG 0113, MEG 0112, MEG 0111, MEG 0122, MEG 0123, MEG 0121, MEG ...\n",
      " chs: 204 Gradiometers, 102 Magnetometers, 9 Stimulus, 60 EEG, 1 EOG\n",
      " custom_ref_applied: False\n",
      " description: acquisition (megacq) VectorView system at NMR-MGH\n",
      " dev_head_t: MEG device -> head transform\n",
      " dig: 146 items (3 Cardinal, 4 HPI, 61 EEG, 78 Extra)\n",
      " events: 1 item (list)\n",
      " experimenter: MEG\n",
      " file_id: 4 items (dict)\n",
      " highpass: 0.1 Hz\n",
      " hpi_meas: 1 item (list)\n",
      " hpi_results: 1 item (list)\n",
      " lowpass: 172.2 Hz\n",
      " meas_date: 2002-12-03 19:01:10 UTC\n",
      " meas_id: 4 items (dict)\n",
      " nchan: 376\n",
      " proj_id: 1 item (ndarray)\n",
      " proj_name: test\n",
      " projs: PCA-v1: off, PCA-v2: off, PCA-v3: off\n",
      " sfreq: 600.6 Hz\n",
      ">\n"
     ]
    }
   ],
   "source": [
    "n_time_samps = raw.n_times\n",
    "time_secs = raw.times\n",
    "ch_names = raw.ch_names\n",
    "n_chan = len(ch_names)  # note: there is no raw.n_channels attribute\n",
    "print('the (cropped) sample data object has {} time samples and {} channels.'\n",
    "      ''.format(n_time_samps, n_chan))\n",
    "print('The last time sample is at {} seconds.'.format(time_secs[-1]))\n",
    "print('The first few channel names are {}.'.format(', '.join(ch_names[:3])))\n",
    "print()  # insert a blank line in the output\n",
    "\n",
    "# some examples of raw.info:\n",
    "print('bad channels:', raw.info['bads'])  # chs marked \"bad\" during acquisition\n",
    "print(raw.info['sfreq'], 'Hz')            # sampling frequency\n",
    "print(raw.info['description'], '\\n')      # miscellaneous acquisition info\n",
    "\n",
    "print(raw.info)"
   ]
  },
  {
   "cell_type": "markdown",
   "id": "fd509c56",
   "metadata": {},
   "source": [
    "#### Compute sLORETA/dSPM inverse solution on raw dataset restricted to a brain label and stores the solution in stc files for visualisation."
   ]
  },
  {
   "cell_type": "code",
   "execution_count": 41,
   "id": "93ecb121",
   "metadata": {},
   "outputs": [
    {
     "name": "stdout",
     "output_type": "stream",
     "text": [
      "Automatically created module for IPython interactive environment\n",
      "Opening raw data file /home/users/mrahman21/mne_data/MNE-sample-data/MEG/sample/sample_audvis_raw.fif...\n",
      "    Read a total of 3 projection items:\n",
      "        PCA-v1 (1 x 102)  idle\n",
      "        PCA-v2 (1 x 102)  idle\n",
      "        PCA-v3 (1 x 102)  idle\n",
      "    Range : 25800 ... 192599 =     42.956 ...   320.670 secs\n",
      "Ready.\n",
      "Reading inverse operator decomposition from /home/users/mrahman21/mne_data/MNE-sample-data/MEG/sample/sample_audvis-meg-oct-6-meg-inv.fif...\n",
      "    Reading inverse operator info...\n",
      "    [done]\n",
      "    Reading inverse operator decomposition...\n",
      "    [done]\n",
      "    305 x 305 full covariance (kind = 1) found.\n",
      "    Read a total of 4 projection items:\n",
      "        PCA-v1 (1 x 102) active\n",
      "        PCA-v2 (1 x 102) active\n",
      "        PCA-v3 (1 x 102) active\n",
      "        Average EEG reference (1 x 60) active\n",
      "    Noise covariance matrix read.\n",
      "    22494 x 22494 diagonal covariance (kind = 2) found.\n",
      "    Source covariance matrix read.\n",
      "    22494 x 22494 diagonal covariance (kind = 6) found.\n",
      "    Orientation priors read.\n",
      "    22494 x 22494 diagonal covariance (kind = 5) found.\n",
      "    Depth priors read.\n",
      "    Did not find the desired covariance matrix (kind = 3)\n",
      "    Reading a source space...\n",
      "    Computing patch statistics...\n",
      "    Patch information added...\n",
      "    Distance information added...\n",
      "    [done]\n",
      "    Reading a source space...\n",
      "    Computing patch statistics...\n",
      "    Patch information added...\n",
      "    Distance information added...\n",
      "    [done]\n",
      "    2 source spaces read\n",
      "    Read a total of 4 projection items:\n",
      "        PCA-v1 (1 x 102) active\n",
      "        PCA-v2 (1 x 102) active\n",
      "        PCA-v3 (1 x 102) active\n",
      "        Average EEG reference (1 x 60) active\n",
      "    Source spaces transformed to the inverse solution coordinate frame\n",
      "EEG channel type selected for re-referencing\n",
      "Adding average EEG reference projection.\n",
      "1 projection items deactivated\n",
      "Preparing the inverse operator for use...\n",
      "    Scaled noise and source covariance from nave = 1 to nave = 1\n",
      "    Created the regularized inverter\n",
      "    Created an SSP operator (subspace dimension = 3)\n",
      "    Created the whitener using a noise covariance matrix with rank 302 (3 small eigenvalues omitted)\n",
      "Applying inverse to raw...\n",
      "    Picked 305 channels from the data\n",
      "    Computing inverse...\n",
      "    Eigenleads need to be weighted ...\n",
      "    combining the current components...\n",
      "[done]\n",
      "<class 'mne.source_estimate.SourceEstimate'>\n",
      "Writing STC to disk...\n",
      "[done]\n"
     ]
    }
   ],
   "source": [
    "import matplotlib.pyplot as plt\n",
    "\n",
    "import mne\n",
    "from mne.datasets import sample\n",
    "from mne.minimum_norm import apply_inverse_raw, read_inverse_operator\n",
    "\n",
    "print(__doc__)\n",
    "\n",
    "data_path = sample.data_path()\n",
    "fname_inv = (\n",
    "    data_path / 'MEG' / 'sample' / 'sample_audvis-meg-oct-6-meg-inv.fif')\n",
    "fname_raw = data_path / 'MEG' / 'sample' / 'sample_audvis_raw.fif'\n",
    "label_name = 'Aud-lh'\n",
    "fname_label = data_path / 'MEG' / 'sample' / 'labels' / f'{label_name}.label'\n",
    "\n",
    "snr = 1.0  # use smaller SNR for raw data\n",
    "lambda2 = 1.0 / snr ** 2\n",
    "method = \"MNE\" #\"dSPM\" #\"sLORETA\"  # use sLORETA method (could also be MNE or dSPM)\n",
    "\n",
    "# Load data\n",
    "raw = mne.io.read_raw_fif(fname_raw)\n",
    "inverse_operator = read_inverse_operator(fname_inv)\n",
    "label = mne.read_label(fname_label)\n",
    "\n",
    "raw.set_eeg_reference('average', projection=True)  # set average reference.\n",
    "start, stop = raw.time_as_index([0, 15])  # read the first 15s of data\n",
    "\n",
    "# Compute inverse solution\n",
    "stc = apply_inverse_raw(raw, inverse_operator, lambda2, method, label,\n",
    "                        start, stop, pick_ori=None)\n",
    "\n",
    "print(type(stc))\n",
    "# Save result in stc files\n",
    "stc.save('mne_%s_raw_inverse_%s' % (method, label_name), overwrite=True)"
   ]
  }
 ],
 "metadata": {
  "kernelspec": {
   "display_name": "mynew2023",
   "language": "python",
   "name": "python3"
  },
  "language_info": {
   "codemirror_mode": {
    "name": "ipython",
    "version": 3
   },
   "file_extension": ".py",
   "mimetype": "text/x-python",
   "name": "python",
   "nbconvert_exporter": "python",
   "pygments_lexer": "ipython3",
   "version": "3.9.16"
  },
  "vscode": {
   "interpreter": {
    "hash": "c9ba2eb0d9494f21be52694afbffc5ea53d94358c43201ba6df3fe7bd04af40c"
   }
  }
 },
 "nbformat": 4,
 "nbformat_minor": 5
}
