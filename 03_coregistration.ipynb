{
 "cells": [
  {
   "cell_type": "markdown",
   "metadata": {},
   "source": [
    "## Using an automated approach to coregistration"
   ]
  },
  {
   "cell_type": "code",
   "execution_count": 100,
   "metadata": {},
   "outputs": [],
   "source": [
    "from pathlib import Path\n",
    "import os, glob \n",
    "\n",
    "# set the path\n",
    "\n",
    "source_dir = os.path.join(Path(os.getcwd()).parent.parent.parent, 'nshor', 'Multiband_with_MEG')\n",
    "# print(source_dir)\n",
    "subjects_dir = os.path.join(Path(os.getcwd()).parent.parent, 'freesurfer', 'subjects')\n",
    "\n",
    "# print(subjects_dir)\n",
    "out_dir = os.path.join(Path(os.getcwd()).parent.parent, 'meg_coreg_raw')\n",
    "\n",
    "# print(out_dir)\n",
    "\n",
    "if not os.path.exists(out_dir):\n",
    "    os.makedirs(out_dir)\n"
   ]
  },
  {
   "cell_type": "markdown",
   "metadata": {},
   "source": [
    "## Load required packages"
   ]
  },
  {
   "cell_type": "code",
   "execution_count": 101,
   "metadata": {},
   "outputs": [],
   "source": [
    "import numpy as np\n",
    "\n",
    "import mne\n",
    "from mne.coreg import Coregistration\n",
    "from mne.io import read_info"
   ]
  },
  {
   "attachments": {},
   "cell_type": "markdown",
   "metadata": {},
   "source": [
    "## Setting fiducials \n",
    "It is to take the MEG sensor space (physical locations) to the  ``head`` coordinate frame (digitized locations))\n",
    "\n",
    "For more information, see [here](https://mne.tools/1.1/auto_tutorials/forward/20_source_alignment.html)"
   ]
  },
  {
   "cell_type": "code",
   "execution_count": 102,
   "metadata": {},
   "outputs": [],
   "source": [
    "sub01_fid = np.array([[-72.90, -2.57, -63.73],[-0.49, 87.38, -53.45],[75.54, -3.75, -63.74]]) #LPA, Nasion, RPA\n",
    "sub02_fid = np.array([[-69.48, -2.53, -64.51],[0.49, 85.86, -51.75],[74.83, 3.05, -62.40]])\n",
    "sub03_fid = np.array([[-74.59, -5.49, -64.53],[-1.54, 90.67, -53.76],[80.37, -4.51, -66.42]])\n",
    "sub04_fid = np.array([[-76.96, 1.07, -71.03],[1.50, 88.75, -53.75],[81.86, -4.60, -68.93]])\n",
    "sub05_fid = np.array([[-72.97, -1.70, -65.11],[1.63, 92.95, -51.98],[76.08, -4.46, -64.24]])\n",
    "sub06_fid = np.array([[-76.17, -5.5, -60.15],[-0.56, 89.51, -41.6],[79.06, -8.84, -64.98]])\n",
    "sub07_fid = np.array([[-73.79, -6.67, -63.82],[2.51, 87.14, -53.10],[78.87, -3.93, -57.46]])\n",
    "sub08_fid = np.array([[-78.68, 5.50, -65.51],[3.49, 90.70, -53.68],[80.82, -0.45, -60.79]])\n",
    "sub09_fid = np.array([[-71.48, 1.57, -71.50],[2.47, 88.66, -50.76],[73.32, 3.54, -71.47]])\n",
    "sub10_fid = np.array([[-80.44, -8.52, -50.56],[-3.37, 89.98, -32.02],[84.89, 5.83, -44.76]])\n",
    "sub11_fid = np.array([[-74.63, 5.59, -63.42],[3.12, 87.01, -47.96],[77.48, 0.51, -65.50]])\n",
    "sub12_fid = np.array([[-77.75, -1.49, -70.57],[1.48, 92.32, -52.38],[84.13, 7.39, -62.08]])"
   ]
  },
  {
   "cell_type": "code",
   "execution_count": 103,
   "metadata": {},
   "outputs": [
    {
     "name": "stdout",
     "output_type": "stream",
     "text": [
      "2\n",
      "/data/users2/nshor/Multiband_with_MEG/sub-01/meg/sub-01_task-RDR_run-2_meg.fif\n"
     ]
    }
   ],
   "source": [
    "# for subject in ['sub01','sub02','sub03','sub04','sub05','sub06',\n",
    "#                 'sub07','sub08','sub09','sub10','sub11','sub12']:\n",
    "#     for sess in range(60):\n",
    "\n",
    "subject = 'sub-01'\n",
    "sess = 1\n",
    "sess = str(sess+1)\n",
    "print(sess)\n",
    "\n",
    "fname_raw = os.path.join(source_dir, subject, 'meg', f'{subject}_task-RDR_run-{sess}_meg.fif')\n",
    "print(fname_raw)\n",
    "info = read_info(fname_raw)\n",
    "plot_kwargs = dict(subject=subject, subjects_dir=subjects_dir,\n",
    "                    surfaces=\"head-dense\", dig=True, eeg=[],\n",
    "                    meg='sensors', show_axes=True,\n",
    "                    coord_frame='meg')\n",
    "view_kwargs = dict(azimuth=45, elevation=90, distance=0.6,\n",
    "                    focalpoint=(0., 0., 0.))"
   ]
  },
  {
   "cell_type": "markdown",
   "metadata": {},
   "source": [
    "## Set up the coregistration model"
   ]
  },
  {
   "cell_type": "code",
   "execution_count": 104,
   "metadata": {},
   "outputs": [
    {
     "name": "stdout",
     "output_type": "stream",
     "text": [
      "[<DigPoint |        LPA : (-79.5, -17.4, -4.6) mm   : MRI (surface RAS) frame>, <DigPoint |     Nasion : (1.2, 78.5, 31.5) mm      : MRI (surface RAS) frame>, <DigPoint |        RPA : (80.7, -9.8, -10.6) mm    : MRI (surface RAS) frame>]\n",
      "sub01_fid\n",
      "[<DigPoint |        LPA : (-72.9, -2.6, -63.7) mm   : MRI (surface RAS) frame>, <DigPoint |     Nasion : (-0.5, 87.4, -53.5) mm    : MRI (surface RAS) frame>, <DigPoint |        RPA : (75.5, -3.8, -63.7) mm    : MRI (surface RAS) frame>]\n"
     ]
    }
   ],
   "source": [
    "# FreeSurfer Talairach transformation file does not exist: \n",
    "fiducials = mne.coreg.get_mni_fiducials(subject, subjects_dir=subjects_dir)\n",
    "# fiducials = 'estimated'\n",
    "print(fiducials)\n",
    "sub_fid = 'sub'+subject[3:]+'_fid'\n",
    "new_id = sub_fid.replace('-', '')\n",
    "print(new_id)\n",
    "for i in range(3):\n",
    "    fiducials[i]['r'] = locals()[new_id][i, :]*0.001\n",
    "print(fiducials)"
   ]
  },
  {
   "attachments": {},
   "cell_type": "markdown",
   "metadata": {},
   "source": [
    "### Create head model"
   ]
  },
  {
   "cell_type": "code",
   "execution_count": 88,
   "metadata": {},
   "outputs": [],
   "source": [
    "# This function will only work if freesurfer environment is set up and linked to this script\n",
    "# but it is still unknown, so used the command line tool for BEM\n",
    "\n",
    "# mne.bem.make_watershed_bem(  # for T1; for FLASH, use make_flash_bem instead\n",
    "#     subject=subject,\n",
    "#     subjects_dir=subjects_dir,\n",
    "#     copy=True,\n",
    "#     overwrite=True,\n",
    "#     show=True,\n",
    "# )"
   ]
  },
  {
   "cell_type": "code",
   "execution_count": 89,
   "metadata": {},
   "outputs": [],
   "source": [
    "# Now create the scalp surfaces\n",
    "# mne.bem.make_scalp_surfaces(\n",
    "#     subject=subject,\n",
    "#     subjects_dir=subjects_dir,\n",
    "#     no_decimate=True,\n",
    "#     force=True,\n",
    "#     overwrite=True,\n",
    "# )\n",
    "\n"
   ]
  },
  {
   "cell_type": "code",
   "execution_count": 105,
   "metadata": {
    "scrolled": false
   },
   "outputs": [
    {
     "name": "stdout",
     "output_type": "stream",
     "text": [
      "    Triangle neighbors and vertex normals...\n",
      "Using low resolution head model in /data/users2/mrahman21/freesurfer/subjects/sub-01/bem/outer_skin.surf\n",
      "    Triangle neighbors and vertex normals...\n"
     ]
    }
   ],
   "source": [
    "#!pip install pyvistaqt\n",
    "\n",
    "# fiducials = \"estimated\"  # get fiducials from fsaverage\n",
    "coreg = Coregistration(info, subject, subjects_dir, fiducials=fiducials)\n",
    "# fig = mne.viz.plot_alignment(info, trans=coreg.trans, **plot_kwargs)"
   ]
  },
  {
   "attachments": {},
   "cell_type": "markdown",
   "metadata": {},
   "source": [
    "## Initial fit with Fiducials \n",
    "\n",
    "Do first a coregistration fit using only 3 fiducial points. This allows to find a good initial solution before further optimization using head shape points. "
   ]
  },
  {
   "cell_type": "code",
   "execution_count": 106,
   "metadata": {},
   "outputs": [
    {
     "name": "stdout",
     "output_type": "stream",
     "text": [
      "Aligning using fiducials\n",
      "Start median distance:  17.91 mm\n",
      "End   median distance:  14.89 mm\n"
     ]
    },
    {
     "data": {
      "text/plain": [
       "<mne.coreg.Coregistration at 0x7fd7c4304340>"
      ]
     },
     "execution_count": 106,
     "metadata": {},
     "output_type": "execute_result"
    }
   ],
   "source": [
    "coreg.fit_fiducials(verbose=True)\n",
    "# fig = mne.viz.plot_alignment(info, trans=coreg.trans, **plot_kwargs)"
   ]
  },
  {
   "attachments": {},
   "cell_type": "markdown",
   "metadata": {},
   "source": [
    "## Refining with ICP\n",
    "\n",
    "Do this refinement using Iterative Closest Point (ICP) algorithm if initial fiducials are obtained from fsaverage and not from precise manual picking in the GUI "
   ]
  },
  {
   "cell_type": "code",
   "execution_count": 107,
   "metadata": {},
   "outputs": [
    {
     "name": "stdout",
     "output_type": "stream",
     "text": [
      "Aligning using ICP\n",
      "Start     median distance:  14.89 mm\n",
      "  ICP  1  median distance:  14.57 mm\n",
      "  ICP  2  median distance:  13.02 mm\n",
      "  ICP  3  median distance:  12.04 mm\n",
      "  ICP  4  median distance:  10.72 mm\n",
      "  ICP  5  median distance:   8.88 mm\n",
      "  ICP  6  median distance:   7.58 mm\n",
      "End       median distance:   7.58 mm\n"
     ]
    },
    {
     "data": {
      "text/plain": [
       "<mne.coreg.Coregistration at 0x7fd7c4304340>"
      ]
     },
     "execution_count": 107,
     "metadata": {},
     "output_type": "execute_result"
    }
   ],
   "source": [
    "coreg.fit_icp(n_iterations=6, nasion_weight=2., verbose=True)\n",
    "# fig = mne.viz.plot_alignment(info, trans=coreg.trans, **plot_kwargs)"
   ]
  },
  {
   "cell_type": "markdown",
   "metadata": {},
   "source": [
    "## Omit Bad Points\n",
    "\n",
    "Set a threshold (distance) above which all points are considered outliers "
   ]
  },
  {
   "cell_type": "code",
   "execution_count": 108,
   "metadata": {},
   "outputs": [
    {
     "name": "stdout",
     "output_type": "stream",
     "text": [
      "Coregistration: Excluding 92 head shape points with distance >= 0.005 m.\n"
     ]
    },
    {
     "data": {
      "text/plain": [
       "<mne.coreg.Coregistration at 0x7fd7c4304340>"
      ]
     },
     "execution_count": 108,
     "metadata": {},
     "output_type": "execute_result"
    }
   ],
   "source": [
    "coreg.omit_head_shape_points(distance=5. / 1000)  # distance is in meters"
   ]
  },
  {
   "cell_type": "markdown",
   "metadata": {},
   "source": [
    "# Final fit"
   ]
  },
  {
   "cell_type": "code",
   "execution_count": 109,
   "metadata": {},
   "outputs": [
    {
     "name": "stdout",
     "output_type": "stream",
     "text": [
      "Aligning using ICP\n",
      "Start     median distance:   3.20 mm\n",
      "  ICP  1  median distance:   3.10 mm\n",
      "  ICP  2  median distance:   2.58 mm\n",
      "  ICP  3  median distance:   2.66 mm\n",
      "  ICP  4  median distance:   2.19 mm\n",
      "  ICP  5  median distance:   2.14 mm\n",
      "  ICP  6  median distance:   2.09 mm\n",
      "  ICP  7  median distance:   2.05 mm\n",
      "End       median distance:   2.05 mm\n",
      "Distance between HSP and MRI (mean/min/max):\n",
      "3.53 mm / 0.62 mm / 14.83 mm\n"
     ]
    }
   ],
   "source": [
    "coreg.fit_icp(n_iterations=20, nasion_weight=10., verbose=True)\n",
    "# fig = mne.viz.plot_alignment(info, trans=coreg.trans, **plot_kwargs)\n",
    "# mne.viz.set_3d_view(fig, **view_kwargs)\n",
    "\n",
    "dists = coreg.compute_dig_mri_distances() * 1e3  # in mm\n",
    "print(\n",
    "    f\"Distance between HSP and MRI (mean/min/max):\\n{np.mean(dists):.2f} mm \"\n",
    "    f\"/ {np.min(dists):.2f} mm / {np.max(dists):.2f} mm\"\n",
    ")"
   ]
  },
  {
   "attachments": {},
   "cell_type": "markdown",
   "metadata": {},
   "source": [
    "## Save the final ``trans`` file"
   ]
  },
  {
   "cell_type": "code",
   "execution_count": 110,
   "metadata": {},
   "outputs": [
    {
     "data": {
      "text/plain": [
       "<Transform | head->MRI (surface RAS)>\n",
       "[[ 0.99901167  0.02922153 -0.03349314  0.00164562]\n",
       " [-0.02729693  0.99802674  0.05654654 -0.03883669]\n",
       " [ 0.03507943 -0.0555764   0.99783801 -0.02529462]\n",
       " [ 0.          0.          0.          1.        ]]"
      ]
     },
     "execution_count": 110,
     "metadata": {},
     "output_type": "execute_result"
    }
   ],
   "source": [
    "out_path = os.path.join(out_dir, subject)\n",
    "if not os.path.exists(out_path):\n",
    "    os.makedirs(out_path)\n",
    "mne.write_trans(out_path + f'/{subject}_task-RDR_run-{sess}_trans.fif', coreg.trans, overwrite=True)\n",
    "coreg.trans\n",
    "\n",
    "# mne.write_trans(ROOT + 'meg_pku_raw/'+subject+'/run'+sess+'_trans.fif', coreg.trans)"
   ]
  },
  {
   "cell_type": "markdown",
   "metadata": {},
   "source": []
  }
 ],
 "metadata": {
  "kernelspec": {
   "display_name": "Python 3 (ipykernel)",
   "language": "python",
   "name": "python3"
  },
  "language_info": {
   "codemirror_mode": {
    "name": "ipython",
    "version": 3
   },
   "file_extension": ".py",
   "mimetype": "text/x-python",
   "name": "python",
   "nbconvert_exporter": "python",
   "pygments_lexer": "ipython3",
   "version": "3.9.16"
  },
  "vscode": {
   "interpreter": {
    "hash": "c9ba2eb0d9494f21be52694afbffc5ea53d94358c43201ba6df3fe7bd04af40c"
   }
  }
 },
 "nbformat": 4,
 "nbformat_minor": 2
}
